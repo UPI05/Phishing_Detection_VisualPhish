{
 "cells": [
  {
   "cell_type": "code",
   "execution_count": 1,
   "metadata": {},
   "outputs": [],
   "source": [
    "import os\n",
    "import numpy as np\n",
    "\n",
    "def load_data(folder):\n",
    "    data = []\n",
    "    labels = []\n",
    "    for subfolder in os.listdir(folder):\n",
    "        subfolder_path = os.path.join(folder, subfolder)\n",
    "        if os.path.isdir(subfolder_path):\n",
    "            for file in os.listdir(subfolder_path):\n",
    "                file_path = os.path.join(subfolder_path, file)\n",
    "                if file.endswith('.npy'):\n",
    "                    # Load numpy array\n",
    "                    array = np.load(file_path).flatten()\n",
    "                    data.append(array)\n",
    "                    # Label phishing as 1, benign as 0\n",
    "                    label = 1 if (folder.find('phishing') != -1) else 0\n",
    "                    labels.append(label)\n",
    "    return np.array(data), np.array(labels)\n",
    "\n",
    "# Đường dẫn đến thư mục chứa dữ liệu\n",
    "phishing_path = 'VisualPhish/phishing_features'\n",
    "benign_path = 'VisualPhish/trusted_list_features'\n",
    "\n",
    "# Load dữ liệu\n",
    "phishing_data, phishing_labels = load_data(phishing_path)\n",
    "benign_data, benign_labels = load_data(benign_path)\n",
    "\n",
    "# Gộp dữ liệu và labels\n",
    "X = np.concatenate((phishing_data, benign_data), axis=0)\n",
    "y = np.concatenate((phishing_labels, benign_labels), axis=0)\n"
   ]
  },
  {
   "cell_type": "code",
   "execution_count": 5,
   "metadata": {},
   "outputs": [],
   "source": [
    "from tensorflow.keras.models import Sequential\n",
    "from tensorflow.keras.layers import Dense\n",
    "\n",
    "model = Sequential([\n",
    "    Dense(1024, activation='relu', input_shape=(512,)),\n",
    "    Dense(512, activation='relu'),\n",
    "    Dense(256, activation='relu'),\n",
    "    Dense(128, activation='relu'),\n",
    "    Dense(64, activation='relu'),\n",
    "    Dense(1, activation='sigmoid')\n",
    "])\n",
    "\n",
    "model.compile(optimizer='adam', loss='binary_crossentropy', metrics=['accuracy'])\n"
   ]
  },
  {
   "cell_type": "code",
   "execution_count": 6,
   "metadata": {},
   "outputs": [
    {
     "name": "stdout",
     "output_type": "stream",
     "text": [
      "Epoch 1/10\n",
      "264/264 [==============================] - 6s 17ms/step - loss: 0.5472 - accuracy: 0.8785\n",
      "Epoch 2/10\n",
      "264/264 [==============================] - 4s 15ms/step - loss: 0.2548 - accuracy: 0.9041\n",
      "Epoch 3/10\n",
      "264/264 [==============================] - 4s 16ms/step - loss: 0.2086 - accuracy: 0.9177\n",
      "Epoch 4/10\n",
      "264/264 [==============================] - 5s 18ms/step - loss: 0.1801 - accuracy: 0.9311\n",
      "Epoch 5/10\n",
      "264/264 [==============================] - 5s 18ms/step - loss: 0.1528 - accuracy: 0.9435\n",
      "Epoch 6/10\n",
      "264/264 [==============================] - 5s 17ms/step - loss: 0.1315 - accuracy: 0.9512\n",
      "Epoch 7/10\n",
      "264/264 [==============================] - 5s 17ms/step - loss: 0.1142 - accuracy: 0.9573\n",
      "Epoch 8/10\n",
      "264/264 [==============================] - 5s 17ms/step - loss: 0.0885 - accuracy: 0.9679\n",
      "Epoch 9/10\n",
      "264/264 [==============================] - 5s 18ms/step - loss: 0.0865 - accuracy: 0.9676\n",
      "Epoch 10/10\n",
      "264/264 [==============================] - 5s 19ms/step - loss: 0.0775 - accuracy: 0.9698\n"
     ]
    },
    {
     "data": {
      "text/plain": [
       "<keras.callbacks.History at 0x7f79273b7ac0>"
      ]
     },
     "execution_count": 6,
     "metadata": {},
     "output_type": "execute_result"
    }
   ],
   "source": [
    "from sklearn.model_selection import train_test_split\n",
    "\n",
    "# Phân chia dữ liệu\n",
    "X_train, X_test, y_train, y_test = train_test_split(X, y, test_size=0.2, random_state=42)\n",
    "\n",
    "# Huấn luyện mô hình\n",
    "model.fit(X_train, y_train, epochs=10, batch_size=32)\n"
   ]
  },
  {
   "cell_type": "code",
   "execution_count": 7,
   "metadata": {},
   "outputs": [
    {
     "name": "stdout",
     "output_type": "stream",
     "text": [
      "66/66 [==============================] - 1s 5ms/step - loss: 0.3827 - accuracy: 0.9219\n",
      "Accuracy: 92.19%\n"
     ]
    }
   ],
   "source": [
    "# Đánh giá hiệu suất\n",
    "loss, accuracy = model.evaluate(X_test, y_test)\n",
    "print(f\"Accuracy: {accuracy*100:.2f}%\")\n"
   ]
  },
  {
   "cell_type": "code",
   "execution_count": 9,
   "metadata": {},
   "outputs": [
    {
     "name": "stdout",
     "output_type": "stream",
     "text": [
      "8446\n",
      "2112\n"
     ]
    }
   ],
   "source": [
    "print(len(X_train))\n",
    "print(len(X_test))"
   ]
  },
  {
   "cell_type": "code",
   "execution_count": 11,
   "metadata": {},
   "outputs": [
    {
     "name": "stdout",
     "output_type": "stream",
     "text": [
      "949\n",
      "0.11236088089036231\n",
      "7497\n",
      "0.8876391191096377\n"
     ]
    }
   ],
   "source": [
    "cnt1Train = 0\n",
    "cnt0Train = 0\n",
    "for y in y_train:\n",
    "  if y == 1:\n",
    "    cnt1Train+=1\n",
    "  else:\n",
    "    cnt0Train+=1\n",
    "\n",
    "print(cnt1Train)\n",
    "print(cnt1Train / len(y_train))\n",
    "print(cnt0Train)\n",
    "print(cnt0Train / len(y_train))\n"
   ]
  },
  {
   "cell_type": "code",
   "execution_count": 12,
   "metadata": {},
   "outputs": [
    {
     "name": "stdout",
     "output_type": "stream",
     "text": [
      "246\n",
      "0.11647727272727272\n",
      "1866\n",
      "0.8835227272727273\n"
     ]
    }
   ],
   "source": [
    "cnt1Test = 0\n",
    "cnt0Test = 0\n",
    "for y in y_test:\n",
    "  if y == 1:\n",
    "    cnt1Test+=1\n",
    "  else:\n",
    "    cnt0Test+=1\n",
    "\n",
    "print(cnt1Test)\n",
    "print(cnt1Test / len(y_test))\n",
    "print(cnt0Test)\n",
    "print(cnt0Test / len(y_test))\n"
   ]
  },
  {
   "cell_type": "code",
   "execution_count": 13,
   "metadata": {},
   "outputs": [
    {
     "name": "stdout",
     "output_type": "stream",
     "text": [
      "66/66 [==============================] - 0s 4ms/step\n",
      "Precision: 0.72\n",
      "Recall: 0.53\n",
      "F1-Score: 0.61\n",
      "AUC: 0.75\n"
     ]
    }
   ],
   "source": [
    "from sklearn.metrics import precision_score, recall_score, f1_score, roc_auc_score\n",
    "\n",
    "# Dự đoán trên tập kiểm tra\n",
    "y_pred = model.predict(X_test)\n",
    "y_pred = [1 if y > 0.5 else 0 for y in y_pred]  # Chuyển đổi xác suất thành nhãn dự đoán\n",
    "\n",
    "# Tính toán các chỉ số đánh giá\n",
    "precision = precision_score(y_test, y_pred)\n",
    "recall = recall_score(y_test, y_pred)\n",
    "f1 = f1_score(y_test, y_pred)\n",
    "auc = roc_auc_score(y_test, y_pred)\n",
    "\n",
    "print(f\"Precision: {precision:.2f}\")\n",
    "print(f\"Recall: {recall:.2f}\")\n",
    "print(f\"F1-Score: {f1:.2f}\")\n",
    "print(f\"AUC: {auc:.2f}\")\n"
   ]
  }
 ],
 "metadata": {
  "kernelspec": {
   "display_name": "tf",
   "language": "python",
   "name": "python3"
  },
  "language_info": {
   "codemirror_mode": {
    "name": "ipython",
    "version": 3
   },
   "file_extension": ".py",
   "mimetype": "text/x-python",
   "name": "python",
   "nbconvert_exporter": "python",
   "pygments_lexer": "ipython3",
   "version": "3.9.16"
  }
 },
 "nbformat": 4,
 "nbformat_minor": 2
}
